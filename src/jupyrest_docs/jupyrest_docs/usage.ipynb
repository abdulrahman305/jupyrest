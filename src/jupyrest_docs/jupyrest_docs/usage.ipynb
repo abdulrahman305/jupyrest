{
 "cells": [
  {
   "cell_type": "markdown",
   "metadata": {},
   "source": [
    "\n",
    "# Usage\n",
    "\n",
    "## Writing Notebook Functions\n",
    "\n",
    "To turn any existing notebook into a notebook function, all you need to include a `.config.json` file next to the notebook. For example a notebook named `hello_world.ipynb` should have a `hello_world.config.json` file next to it in order for Jupyrest to consider the `hello_world.ipynb` notebook to be a notebook function.\n",
    "\n",
    "If you do not intend to expose a Jupyter notebook a REST API, do not include the `.config.json` file.\n",
    "\n",
    "### The `.config.json` file\n",
    "\n",
    "The `.config.json` file is used to set input and output schemas for the associated notebook.\n",
    "\n",
    "A `.config.json` file that looks like the one below describes a notebook function called `my-notebook` that takes an input of arbitrary schema and returns an output of arbitrary schema.\n",
    "```json\n",
    "{\n",
    "    \"id\": \"my-notebook\",\n",
    "    \"input\": {},\n",
    "    \"output\": {}\n",
    "}\n",
    "```\n",
    "\n",
    "The `id` property should be a URL-safe string because this value will be used in API called like:\n",
    "\n",
    "```\n",
    "POST /api/notebooks/<notebook_id>/execute\n",
    "```\n",
    "\n",
    "The `input` and `output` properties are [JSON-schema](https://json-schema.org/) objects.\n",
    "\n",
    "### Setting Notebook Inputs\n",
    "\n",
    "When writing a Jupyter notebook, you might find yourself having a code cell with a set of variables that you change frequently in order to test how your notebook functions with different inputs.\n",
    "\n",
    "In order to tell Jupyrest and Papermill (the underlying library used by Jupyrest) about our notebook inputs, we need to designate this cell as the parameter cell. To do that we should set the code cell as `parameters`.\n",
    "\n",
    "How do I do that?\n",
    "\n",
    "* See these [docs](https://papermill.readthedocs.io/en/latest/usage-parameterize.html#designate-parameters-for-a-cell) from the Papermill library on how to do that in JupyterLab and Jupyter Notebook.\n",
    "* In VSCode, download the [Jupyter Cell Tags](https://marketplace.visualstudio.com/items?itemName=ms-toolsai.vscode-jupyter-cell-tags) extension to do this.\n",
    "\n",
    "### Setting Notebook Outputs\n",
    "\n",
    "From within a notebook, we can set the notebook's output using the `save_output` function in Jupyrest.\n",
    "\n",
    "```python\n",
    "from jupyrest import save_output\n",
    "\n",
    "my_output_data = {\n",
    "    \"title\": \"my output information\",\n",
    "    \"some_random_number\": 42\n",
    "}\n",
    "\n",
    "save_output(my_output_data)\n",
    "```\n",
    "\n",
    "The input to `save_output` should be any object that can be converted into JSON.\n",
    "\n",
    "## Configuring a Jupyrest Application\n",
    "\n",
    "A Jupyrest application is defined by its dependencies. All parts of a Jupyrest application are configurable using a set of well defined interfaces. \n",
    "\n",
    "These dependencies are packaged into a `DependencyBag` object:"
   ]
  },
  {
   "cell_type": "code",
   "execution_count": 7,
   "metadata": {},
   "outputs": [
    {
     "data": {
      "text/markdown": [
       "\n",
       "```python\n",
       "@dataclass\n",
       "class DependencyBag:\n",
       "    notebook_execution_repository: NotebookExecutionRepository\n",
       "    notebook_repository: NotebookRepository\n",
       "    file_obj_client: FileObjectClient\n",
       "    notebook_converter: NotebookConverter\n",
       "    notebook_parameterizier: NotebookParameterizier\n",
       "    notebook_executor: NotebookExeuctor\n",
       "    notebook_output_reader: NotebookOutputReader\n",
       "    notebook_input_output_validator: NotebookInputOutputValidator\n",
       "    notebook_execution_task_handler: NotebookExecutionTaskHandler\n",
       "    notebook_execution_file_namer: NotebookExecutionFileNamer\n",
       "\n",
       "```\n"
      ],
      "text/plain": [
       "<IPython.core.display.Markdown object>"
      ]
     },
     "execution_count": 7,
     "metadata": {},
     "output_type": "execute_result"
    }
   ],
   "source": [
    "import inspect\n",
    "from IPython.display import Markdown\n",
    "from jupyrest.contracts import DependencyBag\n",
    "Markdown(f\"\"\"\n",
    "```python\n",
    "{inspect.getsource(DependencyBag)}\n",
    "```\n",
    "\"\"\")"
   ]
  },
  {
   "cell_type": "markdown",
   "metadata": {},
   "source": [
    "But for practical purposes, we can't expect every developer to have to construct a DependencyBag on their own. That's why we have builders.\n",
    "\n",
    "We have the `InMemoryApplicationBuilder` and the `AzureApplicationBuilder` provided in the Jupyrest library. For this guide, we will use the `InMemoryApplicationBuilder`.\n",
    "\n",
    "We can create an `InMemoryApplicationBuilder` by providing the path to our notebooks as `notebooks_dir`:\n",
    "\n",
    "```python\n",
    "from jupyrest.infra.in_memory.builder import InMemoryApplicationBuilder\n",
    "from pathlib import Path\n",
    "\n",
    "notebooks_dir = Path(__file__).parent / 'notebooks'\n",
    "deps = InMemoryApplicationBuilder(\n",
    "    notebooks_dir=notebooks_dir\n",
    "    ).build()\n",
    "```\n",
    "\n",
    "The `deps` variable here is an instance of `DependencyBag` and we can use this to deploy our Jupyrest Application where we so choose.\n",
    "\n",
    "## Starting the HTTP Server\n",
    "\n",
    "To start the HTTP Server, `jupyrest` has a `create_asgi_app` function. This functions takes a `DependencyBag` as input, and returns a [FastAPI](https://fastapi.tiangolo.com/) application instance. FastAPI is a popular web server framework for Python and supports many forms of deployment.\n",
    "\n",
    "If we wanted to run our FastAPI app locally, we could use `uvicorn`:\n",
    "\n",
    "```python\n",
    "import uvicorn\n",
    "from jupyrest.http.asgi import create_asgi_app\n",
    "app = create_asgi_app(deps=deps)\n",
    "uvicorn.run(app, port=5051)\n",
    "```"
   ]
  }
 ],
 "metadata": {
  "kernelspec": {
   "display_name": ".venv",
   "language": "python",
   "name": "python3"
  },
  "language_info": {
   "codemirror_mode": {
    "name": "ipython",
    "version": 3
   },
   "file_extension": ".py",
   "mimetype": "text/x-python",
   "name": "python",
   "nbconvert_exporter": "python",
   "pygments_lexer": "ipython3",
   "version": "3.9.13"
  }
 },
 "nbformat": 4,
 "nbformat_minor": 2
}
